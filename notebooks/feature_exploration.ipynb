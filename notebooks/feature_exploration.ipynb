{
 "cells": [
  {
   "cell_type": "code",
   "execution_count": 11,
   "id": "01da7a68",
   "metadata": {},
   "outputs": [],
   "source": [
    "import sys\n",
    "from pathlib import Path\n",
    "\n",
    "# Go one level up from notebooks/\n",
    "PROJECT_ROOT = Path.cwd().parent\n",
    "sys.path.append(str(PROJECT_ROOT))"
   ]
  },
  {
   "cell_type": "code",
   "execution_count": null,
   "id": "3545cc4c",
   "metadata": {},
   "outputs": [
    {
     "ename": "ImportError",
     "evalue": "cannot import name 'add_lagged_features' from 'src.features' (c:\\Users\\Caxton Henry\\Downloads\\archive\\TASI-MARKET-FORECASTING\\src\\features.py)",
     "output_type": "error",
     "traceback": [
      "\u001b[1;31m---------------------------------------------------------------------------\u001b[0m",
      "\u001b[1;31mImportError\u001b[0m                               Traceback (most recent call last)",
      "Cell \u001b[1;32mIn[12], line 7\u001b[0m\n\u001b[0;32m      4\u001b[0m \u001b[38;5;28;01mimport\u001b[39;00m\u001b[38;5;250m \u001b[39m\u001b[38;5;21;01mseaborn\u001b[39;00m\u001b[38;5;250m \u001b[39m\u001b[38;5;28;01mas\u001b[39;00m\u001b[38;5;250m \u001b[39m\u001b[38;5;21;01msns\u001b[39;00m\u001b[38;5;66;03m#enhances matplotlib with cleaner visuals\u001b[39;00m\n\u001b[0;32m      6\u001b[0m \u001b[38;5;66;03m# Import custom feature engineering functions\u001b[39;00m\n\u001b[1;32m----> 7\u001b[0m \u001b[38;5;28;01mfrom\u001b[39;00m\u001b[38;5;250m \u001b[39m\u001b[38;5;21;01msrc\u001b[39;00m\u001b[38;5;21;01m.\u001b[39;00m\u001b[38;5;21;01mfeatures\u001b[39;00m\u001b[38;5;250m \u001b[39m\u001b[38;5;28;01mimport\u001b[39;00m add_lagged_features, add_rolling_stats\n",
      "\u001b[1;31mImportError\u001b[0m: cannot import name 'add_lagged_features' from 'src.features' (c:\\Users\\Caxton Henry\\Downloads\\archive\\TASI-MARKET-FORECASTING\\src\\features.py)"
     ]
    }
   ],
   "source": [
    "# Core Python libraries for data handling and plotting\n",
    "import pandas as pd#For data manipulation and analysis\n",
    "import matplotlib.pyplot as plt#for plotting charts and graphs\n",
    "import seaborn as sns#enhances matplotlib with cleaner visuals\n",
    "\n",
    "# Import custom feature engineering functions\n",
    "from features import add_lagged_features, add_rolling_stats"
   ]
  },
  {
   "cell_type": "code",
   "execution_count": null,
   "id": "70fd1f5a",
   "metadata": {},
   "outputs": [],
   "source": [
    "# Load each dataset and ensure 'Date' is treated as datetime for merging and plotting\n",
    "Aramco = pd.read_csv(\"data/Aramco.csv\", parse_dates=[\"Date\"])\n",
    "Al_Rajhi = pd.read_csv(\"data/Al_Rajhi.csv\", parse_dates=[\"Date\"])\n",
    "tasi = pd.read_csv(\"data/TASI_cleaned.csv\", parse_dates=[\"Date\"])"
   ]
  },
  {
   "cell_type": "code",
   "execution_count": null,
   "id": "c7460fa5",
   "metadata": {},
   "outputs": [],
   "source": [
    "# Create lagged and rolling features for Aramco\n",
    "Aramco = add_lagged_features(Aramco, \"Aramco\", lags=[1, 3, 5])\n",
    "Aramco = add_rolling_stats(Aramco, \"Aramco\", window=5)"
   ]
  },
  {
   "cell_type": "code",
   "execution_count": null,
   "id": "c4f32e5c",
   "metadata": {},
   "outputs": [],
   "source": [
    "# Create lagged and rolling features for Al Rajhi\n",
    "Al_Rajhi = add_lagged_features(Al_Rajhi, \"Al_Rajhi\", lags=[1, 3, 5])\n",
    "Al_Rajhi = add_rolling_stats(Al_Rajhi, \"Al_Rajhi\", window=5)"
   ]
  },
  {
   "cell_type": "code",
   "execution_count": null,
   "id": "b27d877c",
   "metadata": {},
   "outputs": [],
   "source": [
    "# Combine datasets on Date to enable full correlation analysis\n",
    "merged = tasi.merge(Aramco, on=\"Date\").merge(Al_Rajhi, on=\"Date\")"
   ]
  },
  {
   "cell_type": "code",
   "execution_count": null,
   "id": "fc97e888",
   "metadata": {},
   "outputs": [],
   "source": [
    "# Visual comparison of raw % changes for Aramco and TASI over time\n",
    "plt.figure(figsize=(12, 5))\n",
    "sns.lineplot(data=merged, x=\"Date\", y=\"Aramco_Change_pct\", label=\"Aramco\")\n",
    "sns.lineplot(data=merged, x=\"Date\", y=\"TASI_Change_pct\", label=\"TASI\")\n",
    "plt.title(\"Aramco vs TASI Change % Over Time\")\n",
    "plt.show()"
   ]
  },
  {
   "cell_type": "code",
   "execution_count": null,
   "id": "0092041a",
   "metadata": {},
   "outputs": [],
   "source": [
    "# Check which engineered features are most correlated with TASI change %\n",
    "corrs = merged.corr(numeric_only=True)[\"TASI_Change_pct\"].sort_values(ascending=False)\n",
    "corrs.head(10)  # Top 10 correlated features"
   ]
  },
  {
   "cell_type": "code",
   "execution_count": null,
   "id": "43744ac1",
   "metadata": {},
   "outputs": [],
   "source": [
    "# Do Aramco lagged % moves lead TASI changes?\n",
    "plt.figure(figsize=(12, 5))\n",
    "sns.lineplot(data=merged, x=\"Date\", y=\"Aramco_Change_pct_lag_1\", label=\"Aramco Lag 1\")\n",
    "sns.lineplot(data=merged, x=\"Date\", y=\"TASI_Change_pct\", label=\"TASI\")\n",
    "plt.title(\"Lagged Aramco vs TASI\")\n",
    "plt.show()"
   ]
  }
 ],
 "metadata": {
  "kernelspec": {
   "display_name": "venv310",
   "language": "python",
   "name": "python3"
  },
  "language_info": {
   "codemirror_mode": {
    "name": "ipython",
    "version": 3
   },
   "file_extension": ".py",
   "mimetype": "text/x-python",
   "name": "python",
   "nbconvert_exporter": "python",
   "pygments_lexer": "ipython3",
   "version": "3.10.0"
  }
 },
 "nbformat": 4,
 "nbformat_minor": 5
}
